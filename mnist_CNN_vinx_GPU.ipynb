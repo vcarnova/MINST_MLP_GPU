{
 "cells": [
  {
   "cell_type": "markdown",
   "metadata": {},
   "source": [
    "# Multi-Layer Perceptron, CNN on GPU\n",
    "---\n",
    "In this notebook, we will train a CNN to classify images from the [MNIST database](http://yann.lecun.com/exdb/mnist/) hand-written digit database.\n",
    "\n",
    "The process will be broken down into the following steps:\n",
    ">1. Load and visualize the data\n",
    "2. Define a neural network\n",
    "3. Train the model\n",
    "4. Evaluate the performance of our trained model on a test dataset!\n",
    "\n",
    "Before we begin, we have to import the necessary libraries for working with data and PyTorch."
   ]
  },
  {
   "cell_type": "code",
   "execution_count": 19,
   "metadata": {},
   "outputs": [
    {
     "name": "stdout",
     "output_type": "stream",
     "text": [
      "CUDA is available!  Training on GPU ...\n"
     ]
    }
   ],
   "source": [
    "# import libraries\n",
    "import torch\n",
    "import numpy as np\n",
    "from time import time\n",
    "\n",
    "\n",
    "# check if CUDA is available\n",
    "train_on_gpu = torch.cuda.is_available()\n",
    "\n",
    "if not train_on_gpu:\n",
    "    print('CUDA is not available.  Training on CPU ...')\n",
    "else:\n",
    "    print('CUDA is available!  Training on GPU ...')"
   ]
  },
  {
   "cell_type": "code",
   "execution_count": null,
   "metadata": {},
   "outputs": [],
   "source": []
  },
  {
   "cell_type": "markdown",
   "metadata": {},
   "source": [
    "---\n",
    "## Load and Visualize the [Data](http://pytorch.org/docs/stable/torchvision/datasets.html)\n",
    "\n",
    "Downloading may take a few moments, and you should see your progress as the data is loading. You may also choose to change the `batch_size` if you want to load more data at a time.\n",
    "\n",
    "This cell will create DataLoaders for each of our datasets."
   ]
  },
  {
   "cell_type": "code",
   "execution_count": 22,
   "metadata": {},
   "outputs": [],
   "source": [
    "from torchvision import datasets\n",
    "import torchvision.transforms as transforms\n",
    "from torch.utils.data.sampler import SubsetRandomSampler\n",
    "\n",
    "\n",
    "\n",
    "# number of subprocesses to use for data loading\n",
    "num_workers = 0\n",
    "# how many samples per batch to load\n",
    "batch_size = 20\n",
    "# percentage of training set to use as validation\n",
    "valid_size = 0.2\n",
    "\n",
    "\n",
    "# convert data to torch.FloatTensor\n",
    "transform = transforms.ToTensor()\n",
    "\n",
    "# choose the training and test datasets\n",
    "train_data = datasets.MNIST(root='data', train=True,\n",
    "                                   download=True, transform=transform)\n",
    "test_data = datasets.MNIST(root='data', train=False,\n",
    "                                  download=True, transform=transform)\n",
    "\n",
    "# obtain training indices that will be used for validation\n",
    "num_train = len(train_data)\n",
    "indices = list(range(num_train))\n",
    "np.random.shuffle(indices)\n",
    "split = int(np.floor(valid_size * num_train))\n",
    "train_idx, valid_idx = indices[split:], indices[:split]\n",
    "\n",
    "\n",
    "# define samplers for obtaining training and validation batches\n",
    "train_sampler = SubsetRandomSampler(train_idx)\n",
    "valid_sampler = SubsetRandomSampler(valid_idx)\n",
    "\n",
    "# prepare data loaders\n",
    "train_loader = torch.utils.data.DataLoader(train_data, batch_size=batch_size,\n",
    "    num_workers=num_workers)\n",
    "valid_loader = torch.utils.data.DataLoader(train_data, batch_size=batch_size, \n",
    "    sampler=valid_sampler, num_workers=num_workers)\n",
    "test_loader = torch.utils.data.DataLoader(test_data, batch_size=batch_size, \n",
    "    num_workers=num_workers)"
   ]
  },
  {
   "cell_type": "markdown",
   "metadata": {},
   "source": [
    "### Visualize a Batch of Training Data\n",
    "\n",
    "The first step in a classification task is to take a look at the data, make sure it is loaded in correctly, then make any initial observations about patterns in that data."
   ]
  },
  {
   "cell_type": "code",
   "execution_count": 23,
   "metadata": {},
   "outputs": [
    {
     "data": {
      "image/png": "[encoded data removed]",
      "text/plain": [
       "<Figure size 1800x288 with 20 Axes>"
      ]
     },
     "metadata": {},
     "output_type": "display_data"
    }
   ],
   "source": [
    "import matplotlib.pyplot as plt\n",
    "%matplotlib inline\n",
    "    \n",
    "# obtain one batch of training images\n",
    "dataiter = iter(train_loader)\n",
    "images, labels = dataiter.next()\n",
    "images = images.numpy()\n",
    "\n",
    "# plot the images in the batch, along with the corresponding labels\n",
    "fig = plt.figure(figsize=(25, 4))\n",
    "for idx in np.arange(20):\n",
    "    ax = fig.add_subplot(2, 20/2, idx+1, xticks=[], yticks=[])\n",
    "    ax.imshow(np.squeeze(images[idx]), cmap='gray')\n",
    "    # print out the correct label for each image\n",
    "    # .item() gets the value contained in a Tensor\n",
    "    ax.set_title(str(labels[idx].item()))"
   ]
  },
  {
   "cell_type": "code",
   "execution_count": 24,
   "metadata": {},
   "outputs": [
    {
     "data": {
      "text/plain": [
       "(20, 1, 28, 28)"
      ]
     },
     "execution_count": 24,
     "metadata": {},
     "output_type": "execute_result"
    }
   ],
   "source": [
    "#20 immagini, 1 colore, 28x28\n",
    "images.shape\n"
   ]
  },
  {
   "cell_type": "markdown",
   "metadata": {},
   "source": [
    "---\n",
    "## Define the Network [Architecture](http://pytorch.org/docs/stable/nn.html)\n",
    "\n",
    "The architecture will be responsible for seeing as input a 784-dim Tensor of pixel values for each image, and producing a Tensor of length 10 (our number of classes) that indicates the class scores for an input image. This particular example uses two hidden layers and dropout to avoid overfitting."
   ]
  },
  {
   "cell_type": "markdown",
   "metadata": {},
   "source": [
    "## Convolutional Layers in PyTorch\n",
    "\n",
    "To create a convolutional layer in PyTorch, you must first import the necessary module:\n",
    "\n",
    "import torch.nn as nn\n",
    "\n",
    "Then, there is a two part process to defining a convolutional layer and defining the feedforward behavior of a model (how an input moves through the layers of a network). First, you must define a Model class and fill in two functions.\n",
    "\n",
    "### init\n",
    "\n",
    "You can define a convolutional layer in the __init__ function of by using the following format:\n",
    "\n",
    "self.conv1 = nn.Conv2d(in_channels, out_channels, kernel_size, stride=1, padding=0)\n",
    "\n",
    "### forward\n",
    "\n",
    "Then, you refer to that layer in the forward function! Here, I am passing in an input image x and applying a ReLU function to the output of this layer.\n",
    "\n",
    "x = F.relu(self.conv1(x))\n",
    "\n",
    "### Arguments\n",
    "\n",
    "You must pass the following arguments:\n",
    "\n",
    "    in_channels - The number of inputs (in depth), 3 for an RGB image, for example.\n",
    "    out_channels - The number of output channels, i.e. the number of filtered \"images\" a convolutional layer is made of or the number of unique, convolutional kernels that will be applied to an input.\n",
    "    kernel_size - Number specifying both the height and width of the (square) convolutional kernel.\n",
    "\n",
    "There are some additional, optional arguments that you might like to tune:\n",
    "\n",
    "    stride - The stride of the convolution. If you don't specify anything, stride is set to 1.\n",
    "    padding - The border of 0's around an input array. If you don't specify anything, padding is set to 0.\n",
    "\n",
    "NOTE: It is possible to represent both kernel_size and stride as either a number or a tuple.\n",
    "\n",
    "There are many other tunable arguments that you can set to change the behavior of your convolutional layers. To read more about these, we recommend perusing the official documentation.\n",
    "\n",
    "## Pooling Layers\n",
    "\n",
    "Pooling layers take in a kernel_size and a stride. Typically the same value as is the down-sampling factor. For example, the following code will down-sample an input's x-y dimensions, by a factor of 2:\n",
    "\n",
    "self.pool = nn.MaxPool2d(2,2)\n",
    "\n",
    "### forward\n",
    "\n",
    "Here, we see that poling layer being applied in the forward function.\n",
    "\n",
    "x = F.relu(self.conv1(x))\n",
    "x = self.pool(x)\n",
    "\n",
    "### Convolutional Example #1\n",
    "\n",
    "Say I'm constructing a CNN, and my input layer accepts grayscale images that are 200 by 200 pixels (corresponding to a 3D array with height 200, width 200, and depth 1). Then, say I'd like the next layer to be a convolutional layer with 16 filters, each filter having a width and height of 2. When performing the convolution, I'd like the filter to jump two pixels at a time. I also don't want the filter to extend outside of the image boundaries; in other words, I don't want to pad the image with zeros. Then, to construct this convolutional layer, I would use the following line of code:\n",
    "\n",
    "self.conv1 = nn.Conv2d(1, 16, 2, stride=2)\n",
    "\n",
    "### Convolutional Example #2\n",
    "\n",
    "Say I'd like the next layer in my CNN to be a convolutional layer that takes the layer constructed in Example 1 as input. Say I'd like my new layer to have 32 filters, each with a height and width of 3. When performing the convolution, I'd like the filter to jump 1 pixel at a time. I want this layer to have the same width and height as the input layer, and so I will pad accordingly. Then, to construct this convolutional layer, I would use the following line of code:\n",
    "\n",
    "self.conv2 = nn.Conv2d(16, 32, 3, padding=1)\n",
    "\n",
    "Convolution with 3x3 window and stride 1\n",
    "\n",
    "Image source: http://iamaaditya.github.io/2016/03/one-by-one-convolution/\n"
   ]
  },
  {
   "cell_type": "markdown",
   "metadata": {},
   "source": [
    "## Sequential Models\n",
    "\n",
    "We can also create a CNN in PyTorch by using a Sequential wrapper in the __init__ function. Sequential allows us to stack different types of layers, specifying activation functions in between!\n",
    "\n",
    "def __init__(self):\n",
    "        super(ModelName, self).__init__()\n",
    "        self.features = nn.Sequential(\n",
    "              nn.Conv2d(1, 16, 2, stride=2),\n",
    "              nn.MaxPool2d(2, 2),\n",
    "              nn.ReLU(True),\n",
    "\n",
    "              nn.Conv2d(16, 32, 3, padding=1),\n",
    "              nn.MaxPool2d(2, 2),\n",
    "              nn.ReLU(True) \n",
    "         )\n",
    "\n"
   ]
  },
  {
   "cell_type": "markdown",
   "metadata": {},
   "source": [
    "## Formula: Number of Parameters in a Convolutional Layer\n",
    "\n",
    "The number of parameters in a convolutional layer depends on the supplied values of filters/out_channels, kernel_size, and input_shape. Let's define a few variables:\n",
    "\n",
    "    K - the number of filters in the convolutional layer\n",
    "    F - the height and width of the convolutional filters\n",
    "    D_in - the depth of the previous layer\n",
    "\n",
    "Notice that K = out_channels, and F = kernel_size. Likewise, D_in is the last value in the input_shape tuple, typically 1 or 3 (RGB and grayscale, respectively).\n",
    "\n",
    "Since there are F*F*D_in weights per filter, and the convolutional layer is composed of K filters, the total number of weights in the convolutional layer is K*F*F*D_in. Since there is one bias term per filter, the convolutional layer has K biases. Thus, the number of parameters in the convolutional layer is given by K*F*F*D_in + K.\n",
    "\n",
    "### Formula: Shape of a Convolutional Layer\n",
    "\n",
    "The shape of a convolutional layer depends on the supplied values of kernel_size, input_shape, padding, and stride. Let's define a few variables:\n",
    "\n",
    "    K - the number of filters in the convolutional layer\n",
    "    F - the height and width of the convolutional filters\n",
    "    S - the stride of the convolution\n",
    "    P - the padding\n",
    "    W_in - the width/height (square) of the previous layer\n",
    "\n",
    "Notice that K = out_channels, F = kernel_size, and S = stride. Likewise, W_in is the first and second value of the input_shape tuple.\n",
    "\n",
    "The depth of the convolutional layer will always equal the number of filters K.\n",
    "\n",
    "The spatial dimensions of a convolutional layer can be calculated as: (W_in−F+2P)/S+1\n",
    "\n",
    "### Flattening\n",
    "\n",
    "Part of completing a CNN architecture, is to flatten the eventual output of a series of convolutional and pooling layers, so that all parameters can be seen (as a vector) by a linear classification layer. At this step, it is imperative that you know exactly how many parameters are output by a layer.\n",
    "\n",
    "For the following quiz questions, consider an input image that is 130x130 (x, y) and 3 in depth (RGB). Say, this image goes through the following layers in order:\n",
    "\n",
    "nn.Conv2d(3, 10, 3)\n",
    "nn.MaxPool2d(4, 4)\n",
    "nn.Conv2d(10, 20, 5, padding=2)\n",
    "nn.MaxPool2d(2, 2)\n"
   ]
  },
  {
   "cell_type": "markdown",
   "metadata": {},
   "source": [
    "### Calculate the Output Size of Conv. Layer"
   ]
  },
  {
   "cell_type": "markdown",
   "metadata": {},
   "source": [
    "Say, we want to convolve a 28 X 28 image with a 5 X 5 kernel with a stride length of 1. What's the final size of the output?\n",
    "\n",
    "Before going to the equation, let's lay down some definitions:\n",
    "\n",
    "    the image is of size n X n\n",
    "    the kernel is of size k X k\n",
    "    the padding is of size p\n",
    "    the stride is of length s\n",
    "\n",
    "    The output size will be:\n",
    "\n",
    "    ⌊ ((n+2p−k)/s)+1 ⌋×⌊ ((n+2p−k)/s)+1 ⌋\n",
    "\n",
    "    Note: Should the fraction not be an integer, we'll have to round it down.\n",
    "\n",
    "And since:\n",
    "\n",
    "    n = 28\n",
    "    k = 5\n",
    "    p = 3\n",
    "    s = 1\n",
    "\n",
    "This give us 28 X 28 because:\n",
    "\n",
    "CONV1: ⌊((28+2*2−5)/1)+1⌋×⌊((28+2*2−5)/1)+1⌋=28x28\n",
    "PADDING: (28X28)/2 = 14x14\n",
    "CONV2: ⌊((14+2*0−5)/1)+1⌋×⌊((14+2*0−5)/1)+1⌋=10x10\n",
    "PADDING: (10x10)/2 = 5x5"
   ]
  },
  {
   "cell_type": "code",
   "execution_count": null,
   "metadata": {},
   "outputs": [],
   "source": []
  },
  {
   "cell_type": "code",
   "execution_count": 58,
   "metadata": {},
   "outputs": [],
   "source": [
    "import torch.nn as nn\n",
    "import torch.nn.functional as F\n",
    "\n",
    "# Defining the network (LeNet-5)  \n",
    "class LeNet5(torch.nn.Module):          \n",
    "     \n",
    "    def __init__(self):     \n",
    "        super(LeNet5, self).__init__()\n",
    "        # Convolution (In LeNet-5, 32x32x1 images are given as input. Hence padding of 2 is done below)\n",
    "        self.conv1 = torch.nn.Conv2d(in_channels=1, out_channels=6, kernel_size=5, stride=1, padding=2, bias=True)\n",
    "        # Max-pooling\n",
    "        self.max_pool_1 = torch.nn.MaxPool2d(kernel_size=2)\n",
    "        # Convolution\n",
    "        self.conv2 = torch.nn.Conv2d(in_channels=6, out_channels=16, kernel_size=5, stride=1, padding=0, bias=True)\n",
    "        # Max-pooling\n",
    "        self.max_pool_2 = torch.nn.MaxPool2d(kernel_size=2) \n",
    "        # Fully connected layer\n",
    "        \n",
    "        #CONV1: ⌊((28+2*2−5)/1)+1⌋×⌊((28+2*2−5)/1)+1⌋=28x28\n",
    "        #PADDING: (28X28)/2 = 14x14\n",
    "        #CONV2: ⌊((14+2*0−5)/1)+1⌋×⌊((14+2*0−5)/1)+1⌋=10x10\n",
    "        #PADDING: (10x10)/2 = 5x5\n",
    "        \n",
    "        \n",
    "        self.fc1 = torch.nn.Linear(16*5*5, 120)   # convert matrix with 16*5*5 (= 400) features to a matrix of 120 features (columns)\n",
    "        self.fc2 = torch.nn.Linear(120, 84)       # convert matrix with 120 features to a matrix of 84 features (columns)\n",
    "        self.fc3 = torch.nn.Linear(84, 10)        # convert matrix with 84 features to a matrix of 10 features (columns)\n",
    "        \n",
    "    def forward(self, x):\n",
    "        # convolve, then perform ReLU non-linearity\n",
    "        x = torch.nn.functional.relu(self.conv1(x))  \n",
    "        # max-pooling with 2x2 grid \n",
    "        x = self.max_pool_1(x) \n",
    "        # convolve, then perform ReLU non-linearity\n",
    "        x = torch.nn.functional.relu(self.conv2(x))\n",
    "        # max-pooling with 2x2 grid\n",
    "        x = self.max_pool_2(x)\n",
    "        # first flatten 'max_pool_2_out' to contain 16*5*5 columns\n",
    "        # read through https://stackoverflow.com/a/42482819/7551231\n",
    "        x = x.view(-1, 16*5*5)\n",
    "        # FC-1, then perform ReLU non-linearity\n",
    "        x = torch.nn.functional.relu(self.fc1(x))\n",
    "        # FC-2, then perform ReLU non-linearity\n",
    "        x = torch.nn.functional.relu(self.fc2(x))\n",
    "        # FC-3\n",
    "        x = self.fc3(x)\n",
    "        \n",
    "        return x\n",
    "\n",
    "# initialize the NN    \n",
    "model = LeNet5()     \n",
    "\n",
    "# move tensors to GPU if CUDA is available\n",
    "if train_on_gpu:\n",
    "    model.cuda()"
   ]
  },
  {
   "cell_type": "markdown",
   "metadata": {},
   "source": [
    "###  Specify [Loss Function](http://pytorch.org/docs/stable/nn.html#loss-functions) and [Optimizer](http://pytorch.org/docs/stable/optim.html)\n",
    "\n",
    "It's recommended that you use cross-entropy loss for classification. If you look at the documentation (linked above), you can see that PyTorch's cross entropy function applies a softmax funtion to the output layer *and* then calculates the log loss."
   ]
  },
  {
   "cell_type": "code",
   "execution_count": 59,
   "metadata": {},
   "outputs": [],
   "source": [
    "# set up loss function -- 'SVM Loss' a.k.a 'Cross-Entropy Loss'\n",
    "criterion = torch.nn.CrossEntropyLoss()\n",
    "       \n",
    "# SGD used for optimization, momentum update used as parameter update  \n",
    "optimizer = torch.optim.SGD(model.parameters(), lr = 0.001, momentum=0.9)"
   ]
  },
  {
   "cell_type": "markdown",
   "metadata": {},
   "source": [
    "---\n",
    "## Train the Network\n",
    "\n",
    "The steps for training/learning from a batch of data are described in the comments below:\n",
    "1. Clear the gradients of all optimized variables\n",
    "2. Forward pass: compute predicted outputs by passing inputs to the model\n",
    "3. Calculate the loss\n",
    "4. Backward pass: compute gradient of the loss with respect to model parameters\n",
    "5. Perform a single optimization step (parameter update)\n",
    "6. Update average training loss\n",
    "\n",
    "The following loop trains for 30 epochs; feel free to change this number. For now, we suggest somewhere between 20-50 epochs. As you train, take a look at how the values for the training loss decrease over time. We want it to decrease while also avoiding overfitting the training data. "
   ]
  },
  {
   "cell_type": "code",
   "execution_count": 60,
   "metadata": {},
   "outputs": [
    {
     "name": "stdout",
     "output_type": "stream",
     "text": [
      "Epoch: 1 \tTraining Loss: 1.255873 \tValidation Loss: 0.268438\n",
      "Training Time (in minutes) = 0.3376912593841553\n",
      "Validation loss decreased (inf --> 0.268438).  Saving model ...\n",
      "Epoch: 2 \tTraining Loss: 0.166345 \tValidation Loss: 0.144069\n",
      "Training Time (in minutes) = 0.6651127974192301\n",
      "Validation loss decreased (0.268438 --> 0.144069).  Saving model ...\n",
      "Epoch: 3 \tTraining Loss: 0.098322 \tValidation Loss: 0.096899\n",
      "Training Time (in minutes) = 1.0096367041269938\n",
      "Validation loss decreased (0.144069 --> 0.096899).  Saving model ...\n",
      "Epoch: 4 \tTraining Loss: 0.074203 \tValidation Loss: 0.087558\n",
      "Training Time (in minutes) = 1.338044520219167\n",
      "Validation loss decreased (0.096899 --> 0.087558).  Saving model ...\n",
      "Epoch: 5 \tTraining Loss: 0.060822 \tValidation Loss: 0.073624\n",
      "Training Time (in minutes) = 1.6688329736391703\n",
      "Validation loss decreased (0.087558 --> 0.073624).  Saving model ...\n",
      "Epoch: 6 \tTraining Loss: 0.051823 \tValidation Loss: 0.059199\n",
      "Training Time (in minutes) = 2.0046737591425576\n",
      "Validation loss decreased (0.073624 --> 0.059199).  Saving model ...\n",
      "Epoch: 7 \tTraining Loss: 0.045062 \tValidation Loss: 0.046872\n",
      "Training Time (in minutes) = 2.3496267477671307\n",
      "Validation loss decreased (0.059199 --> 0.046872).  Saving model ...\n",
      "Epoch: 8 \tTraining Loss: 0.039780 \tValidation Loss: 0.040322\n",
      "Training Time (in minutes) = 2.735351002216339\n",
      "Validation loss decreased (0.046872 --> 0.040322).  Saving model ...\n",
      "Epoch: 9 \tTraining Loss: 0.035455 \tValidation Loss: 0.034262\n",
      "Training Time (in minutes) = 3.0743513822555544\n",
      "Validation loss decreased (0.040322 --> 0.034262).  Saving model ...\n",
      "Epoch: 10 \tTraining Loss: 0.031689 \tValidation Loss: 0.030891\n",
      "Training Time (in minutes) = 3.4068157076835632\n",
      "Validation loss decreased (0.034262 --> 0.030891).  Saving model ...\n",
      "Epoch: 11 \tTraining Loss: 0.028675 \tValidation Loss: 0.028977\n",
      "Training Time (in minutes) = 3.767168704668681\n",
      "Validation loss decreased (0.030891 --> 0.028977).  Saving model ...\n",
      "Epoch: 12 \tTraining Loss: 0.025854 \tValidation Loss: 0.026977\n",
      "Training Time (in minutes) = 4.110667657852173\n",
      "Validation loss decreased (0.028977 --> 0.026977).  Saving model ...\n",
      "Epoch: 13 \tTraining Loss: 0.023252 \tValidation Loss: 0.025819\n",
      "Training Time (in minutes) = 4.457359846433004\n",
      "Validation loss decreased (0.026977 --> 0.025819).  Saving model ...\n",
      "Epoch: 14 \tTraining Loss: 0.020896 \tValidation Loss: 0.025263\n",
      "Training Time (in minutes) = 4.798647892475128\n",
      "Validation loss decreased (0.025819 --> 0.025263).  Saving model ...\n",
      "Epoch: 15 \tTraining Loss: 0.018716 \tValidation Loss: 0.024185\n",
      "Training Time (in minutes) = 5.146964756647746\n",
      "Validation loss decreased (0.025263 --> 0.024185).  Saving model ...\n",
      "Epoch: 16 \tTraining Loss: 0.016736 \tValidation Loss: 0.023674\n",
      "Training Time (in minutes) = 5.485850636164347\n",
      "Validation loss decreased (0.024185 --> 0.023674).  Saving model ...\n",
      "Epoch: 17 \tTraining Loss: 0.014953 \tValidation Loss: 0.022569\n",
      "Training Time (in minutes) = 5.824035720030467\n",
      "Validation loss decreased (0.023674 --> 0.022569).  Saving model ...\n",
      "Epoch: 18 \tTraining Loss: 0.013405 \tValidation Loss: 0.021141\n",
      "Training Time (in minutes) = 6.174499412377675\n",
      "Validation loss decreased (0.022569 --> 0.021141).  Saving model ...\n",
      "Epoch: 19 \tTraining Loss: 0.012076 \tValidation Loss: 0.019340\n",
      "Training Time (in minutes) = 6.509252802530924\n",
      "Validation loss decreased (0.021141 --> 0.019340).  Saving model ...\n",
      "Epoch: 20 \tTraining Loss: 0.010651 \tValidation Loss: 0.018995\n",
      "Training Time (in minutes) = 6.846647846698761\n",
      "Validation loss decreased (0.019340 --> 0.018995).  Saving model ...\n"
     ]
    }
   ],
   "source": [
    "time0 = time()\n",
    "\n",
    "# number of epochs to train the model\n",
    "n_epochs = 20  # suggest training between 20-50 epochs\n",
    "\n",
    "# initialize tracker for minimum validation loss\n",
    "valid_loss_min = np.Inf # set initial \"min\" to infinity\n",
    "\n",
    "#crea il dizionario per il plot\n",
    "losses = {'train':[], 'validation':[]}\n",
    "\n",
    "for epoch in range(n_epochs):\n",
    "    # monitor training loss\n",
    "    train_loss = 0.0\n",
    "    valid_loss = 0.0\n",
    "    \n",
    "    ###################\n",
    "    # train the model #\n",
    "    ###################\n",
    "    model.train() # prep model for training\n",
    "    for data, target in train_loader:\n",
    " \n",
    "        # move tensors to GPU if CUDA is available\n",
    "        if train_on_gpu:\n",
    "            data, target = data.cuda(), target.cuda()\n",
    " \n",
    "        # clear the gradients of all optimized variables\n",
    "        optimizer.zero_grad()\n",
    "        # forward pass: compute predicted outputs by passing inputs to the model\n",
    "        output = model(data)\n",
    "        # calculate the loss\n",
    "        loss = criterion(output, target)\n",
    "        # backward pass: compute gradient of the loss with respect to model parameters\n",
    "        loss.backward()\n",
    "        # perform a single optimization step (parameter update)\n",
    "        optimizer.step()\n",
    "        # update running training loss\n",
    "        train_loss += loss.item()*data.size(0)\n",
    "      \n",
    "        \n",
    "    ######################    \n",
    "    # validate the model #\n",
    "    ######################\n",
    "    model.eval() # prep model for evaluation\n",
    "    for data, target in valid_loader:\n",
    "        \n",
    "        # move tensors to GPU if CUDA is available\n",
    "        if train_on_gpu:\n",
    "            data, target = data.cuda(), target.cuda()        \n",
    "        \n",
    "        # forward pass: compute predicted outputs by passing inputs to the model\n",
    "        output = model(data)\n",
    "        # calculate the loss\n",
    "        loss = criterion(output, target)\n",
    "        # update running validation loss \n",
    "        valid_loss += loss.item()*data.size(0)\n",
    "        \n",
    "        \n",
    "    # calculate average loss over an epoch\n",
    "    train_loss = train_loss/len(train_loader.sampler)\n",
    "    valid_loss = valid_loss/len(valid_loader.sampler)\n",
    "            \n",
    "    #genera il vettore  per il plot\n",
    "    losses['train'].append(train_loss)\n",
    "    losses['validation'].append(valid_loss)        \n",
    "  \n",
    "    \n",
    "    print('Epoch: {} \\tTraining Loss: {:.6f} \\tValidation Loss: {:.6f}'.format(\n",
    "        epoch+1, \n",
    "        train_loss,\n",
    "        valid_loss\n",
    "        ))\n",
    "    print(\"Training Time (in minutes) =\",(time()-time0)/60) \n",
    "    \n",
    "    # save model if validation loss has decreased\n",
    "    if valid_loss <= valid_loss_min:\n",
    "        print('Validation loss decreased ({:.6f} --> {:.6f}).  Saving model ...'.format(\n",
    "        valid_loss_min,\n",
    "        valid_loss))\n",
    "        torch.save(model.state_dict(), 'model.pt')\n",
    "        valid_loss_min = valid_loss\n",
    "        \n"
   ]
  },
  {
   "cell_type": "code",
   "execution_count": 61,
   "metadata": {},
   "outputs": [
    {
     "data": {
      "image/png": "[encoded data removed]",
      "text/plain": [
       "<Figure size 432x288 with 1 Axes>"
      ]
     },
     "metadata": {
      "needs_background": "light"
     },
     "output_type": "display_data"
    }
   ],
   "source": [
    "###Plot Train vs. validation\n",
    "\n",
    "plt.plot(losses['train'], label='Training loss')\n",
    "plt.plot(losses['validation'], label='Validation loss')\n",
    "plt.legend()\n",
    "_ = plt.ylim()"
   ]
  },
  {
   "cell_type": "markdown",
   "metadata": {},
   "source": [
    "###  Load the Model with the Lowest Validation Loss"
   ]
  },
  {
   "cell_type": "code",
   "execution_count": 62,
   "metadata": {},
   "outputs": [
    {
     "data": {
      "text/plain": [
       "<All keys matched successfully>"
      ]
     },
     "execution_count": 62,
     "metadata": {},
     "output_type": "execute_result"
    }
   ],
   "source": [
    "model.load_state_dict(torch.load('model.pt'))"
   ]
  },
  {
   "cell_type": "markdown",
   "metadata": {},
   "source": [
    "---\n",
    "## Test the Trained Network\n",
    "\n",
    "Finally, we test our best model on previously unseen **test data** and evaluate it's performance. Testing on unseen data is a good way to check that our model generalizes well. It may also be useful to be granular in this analysis and take a look at how this model performs on each class as well as looking at its overall loss and accuracy."
   ]
  },
  {
   "cell_type": "code",
   "execution_count": 63,
   "metadata": {},
   "outputs": [
    {
     "name": "stdout",
     "output_type": "stream",
     "text": [
      "Test Loss: 0.047616\n",
      "\n",
      "Test Accuracy of     0: 99% (978/980)\n",
      "Test Accuracy of     1: 99% (1128/1135)\n",
      "Test Accuracy of     2: 99% (1029/1032)\n",
      "Test Accuracy of     3: 99% (1006/1010)\n",
      "Test Accuracy of     4: 98% (970/982)\n",
      "Test Accuracy of     5: 98% (877/892)\n",
      "Test Accuracy of     6: 96% (929/958)\n",
      "Test Accuracy of     7: 98% (1011/1028)\n",
      "Test Accuracy of     8: 97% (954/974)\n",
      "Test Accuracy of     9: 97% (982/1009)\n",
      "\n",
      "Test Accuracy (Overall): 98% (9864/10000)\n"
     ]
    }
   ],
   "source": [
    "# initialize lists to monitor test loss and accuracy\n",
    "test_loss = 0.0\n",
    "class_correct = list(0. for i in range(10))\n",
    "class_total = list(0. for i in range(10))\n",
    "\n",
    "model.eval() # prep model for *evaluation*\n",
    "\n",
    "for data, target in test_loader:\n",
    "\n",
    "    # move tensors to GPU if CUDA is available\n",
    "    if train_on_gpu:\n",
    "        data, target = data.cuda(), target.cuda()\n",
    "\n",
    "    \n",
    "    # forward pass: compute predicted outputs by passing inputs to the model\n",
    "    output = model(data)\n",
    "    # calculate the loss\n",
    "    loss = criterion(output, target)\n",
    "    # update test loss \n",
    "    test_loss += loss.item()*data.size(0)\n",
    "    # convert output probabilities to predicted class\n",
    "    _, pred = torch.max(output, 1)\n",
    "    # compare predictions to true label\n",
    "    correct = np.squeeze(pred.eq(target.data.view_as(pred)))\n",
    "    # calculate test accuracy for each object class\n",
    "    for i in range(len(target)):\n",
    "        label = target.data[i]\n",
    "        class_correct[label] += correct[i].item()\n",
    "        class_total[label] += 1\n",
    "\n",
    "# calculate and print avg test loss\n",
    "test_loss = test_loss/len(test_loader.sampler)\n",
    "print('Test Loss: {:.6f}\\n'.format(test_loss))\n",
    "\n",
    "for i in range(10):\n",
    "    if class_total[i] > 0:\n",
    "        print('Test Accuracy of %5s: %2d%% (%2d/%2d)' % (\n",
    "            str(i), 100 * class_correct[i] / class_total[i],\n",
    "            np.sum(class_correct[i]), np.sum(class_total[i])))\n",
    "    else:\n",
    "        print('Test Accuracy of %5s: N/A (no training examples)' % (classes[i]))\n",
    "\n",
    "print('\\nTest Accuracy (Overall): %2d%% (%2d/%2d)' % (\n",
    "    100. * np.sum(class_correct) / np.sum(class_total),\n",
    "    np.sum(class_correct), np.sum(class_total)))"
   ]
  },
  {
   "cell_type": "code",
   "execution_count": null,
   "metadata": {},
   "outputs": [],
   "source": []
  },
  {
   "cell_type": "code",
   "execution_count": null,
   "metadata": {},
   "outputs": [],
   "source": []
  },
  {
   "cell_type": "markdown",
   "metadata": {},
   "source": [
    "### Visualize Sample Test Results\n",
    "\n",
    "This cell displays test images and their labels in this format: `predicted (ground-truth)`. The text will be green for accurately classified examples and red for incorrect predictions."
   ]
  },
  {
   "cell_type": "code",
   "execution_count": 35,
   "metadata": {},
   "outputs": [
    {
     "data": {
      "image/png": "[encoded data removed]",
      "text/plain": [
       "<Figure size 1800x288 with 20 Axes>"
      ]
     },
     "metadata": {},
     "output_type": "display_data"
    }
   ],
   "source": [
    "# obtain one batch of test images\n",
    "dataiter = iter(test_loader)\n",
    "images, labels = dataiter.next()\n",
    "\n",
    "\n",
    "# move model inputs to cuda, if GPU available\n",
    "if train_on_gpu:\n",
    "    images = images.cuda()\n",
    "\n",
    "\n",
    "# get sample outputs\n",
    "output = model(images)\n",
    "\n",
    "# convert output probabilities to predicted class\n",
    "_, preds = torch.max(output, 1)\n",
    "preds = np.squeeze(preds.numpy()) if not train_on_gpu else np.squeeze(preds.cpu().numpy())\n",
    "\n",
    "\n",
    "# prep images for display\n",
    "images = images.cpu()#riporto images in CPU\n",
    "images = images.numpy()\n",
    "\n",
    "# plot the images in the batch, along with predicted and true labels\n",
    "fig = plt.figure(figsize=(25, 4))\n",
    "for idx in np.arange(20):\n",
    "    ax = fig.add_subplot(2, 20/2, idx+1, xticks=[], yticks=[])\n",
    "    ax.imshow(np.squeeze(images[idx]), cmap='gray')\n",
    "    ax.set_title(\"{} ({})\".format(str(preds[idx].item()), str(labels[idx].item())),\n",
    "                 color=(\"green\" if preds[idx]==labels[idx] else \"red\"))"
   ]
  },
  {
   "cell_type": "code",
   "execution_count": null,
   "metadata": {},
   "outputs": [],
   "source": []
  }
 ],
 "metadata": {
  "anaconda-cloud": {},
  "kernelspec": {
   "display_name": "Python 3",
   "language": "python",
   "name": "python3"
  },
  "language_info": {
   "codemirror_mode": {
    "name": "ipython",
    "version": 3
   },
   "file_extension": ".py",
   "mimetype": "text/x-python",
   "name": "python",
   "nbconvert_exporter": "python",
   "pygments_lexer": "ipython3",
   "version": "3.6.10"
  }
 },
 "nbformat": 4,
 "nbformat_minor": 2
}
